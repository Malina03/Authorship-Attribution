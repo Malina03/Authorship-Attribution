{
 "cells": [
  {
   "cell_type": "code",
   "execution_count": 7,
   "metadata": {},
   "outputs": [],
   "source": [
    "import pandas as pd\n",
    "import spacy\n",
    "import contextualSpellCheck\n",
    "import re\n",
    "nlp = spacy.load(\"en_core_web_sm\")\n",
    "contextualSpellCheck.add_to_pipe(nlp)\n",
    "data_set = pd.read_csv('../data/blogtext.csv')"
   ]
  },
  {
   "cell_type": "code",
   "execution_count": 8,
   "metadata": {},
   "outputs": [
    {
     "name": "stdout",
     "output_type": "stream",
     "text": [
      "topic\n",
      "Accounting                   3832\n",
      "Advertising                  4676\n",
      "Agriculture                  1235\n",
      "Architecture                 1638\n",
      "Arts                        32449\n",
      "Automotive                   1244\n",
      "Banking                      4049\n",
      "Biotech                      2234\n",
      "BusinessServices             4500\n",
      "Chemicals                    3928\n",
      "Communications-Media        20140\n",
      "Construction                 1093\n",
      "Consulting                   5862\n",
      "Education                   29633\n",
      "Engineering                 11653\n",
      "Environment                   592\n",
      "Fashion                      4851\n",
      "Government                   6907\n",
      "HumanResources               3010\n",
      "Internet                    16006\n",
      "InvestmentBanking            1292\n",
      "Law                          9040\n",
      "LawEnforcement-Security      1878\n",
      "Manufacturing                2272\n",
      "Maritime                      280\n",
      "Marketing                    4769\n",
      "Military                     3128\n",
      "Museums-Libraries            3096\n",
      "Non-Profit                  14700\n",
      "Publishing                   7753\n",
      "RealEstate                   2870\n",
      "Religion                     5235\n",
      "Science                      7269\n",
      "Sports-Recreation            3038\n",
      "Student                    153903\n",
      "Technology                  42055\n",
      "Telecommunications           3891\n",
      "Tourism                      1942\n",
      "Transportation               2326\n",
      "indUnk                     251015\n",
      "Name: id, dtype: int64\n"
     ]
    }
   ],
   "source": [
    "print(data_set.groupby('topic')['id'].count())"
   ]
  },
  {
   "cell_type": "code",
   "execution_count": 9,
   "metadata": {},
   "outputs": [
    {
     "name": "stdout",
     "output_type": "stream",
     "text": [
      "10\n"
     ]
    }
   ],
   "source": [
    "data_bio = data_set[data_set['topic']=='Biotech']\n",
    "data = data_bio[['id', 'text', 'date']]\n",
    "df = data[data.groupby('id')['id'].transform('size') > 50]\n",
    "print(len(df.groupby('id')))\n"
   ]
  },
  {
   "cell_type": "code",
   "execution_count": 13,
   "metadata": {},
   "outputs": [
    {
     "name": "stdout",
     "output_type": "stream",
     "text": [
      "         id spelling_errors other_tag nvn nnv vnn vnv nap nnc nad dna nnn nan  \\\n",
      "0   3310475              11         0   1   0   0   0   0   1   0   0   0   0   \n",
      "1   3310475               4         0   0   0   0   0   0   0   0   0   0   0   \n",
      "2   3310475              14         0   0   0   0   0   0   1   3   5   1   3   \n",
      "3   3310475              21         0   0   0   0   0   0   1   4   5   0   7   \n",
      "4   3310475              16         0   0   0   1   0   0   0   0   0   0   0   \n",
      "..      ...             ...       ...  ..  ..  ..  ..  ..  ..  ..  ..  ..  ..   \n",
      "60  3310475               6         0   1   0   0   1   0   0   1   3   0   6   \n",
      "61  3310475              26         0   0   1   3   0   3   1   4   5   1   7   \n",
      "62  3310475              21         0   1   0   0   0   0   0   5   3   0   2   \n",
      "63  3310475               5         0   0   0   0   0   1   0   1   2   0   1   \n",
      "64  3310475              22         0   0   0   0   0   1   2   4   7   0   6   \n",
      "\n",
      "   vad  \n",
      "0    1  \n",
      "1    0  \n",
      "2    1  \n",
      "3    3  \n",
      "4    0  \n",
      "..  ..  \n",
      "60   2  \n",
      "61   5  \n",
      "62   2  \n",
      "63   2  \n",
      "64   6  \n",
      "\n",
      "[65 rows x 14 columns]\n"
     ]
    }
   ],
   "source": [
    "def get_trigram_features(pos_string):\n",
    "    # Trigrams list\n",
    "    # NVN NNV VNN NADPPROPN NNCCONJ NOUNPREPDET DETNOUNPREP VNV NNN  NOUNPREPNOUN VPREPDET\n",
    "    features = {}\n",
    "    features['nvn'] = len(re.findall('(NOUN VERB NOUN)', pos_string))\n",
    "    features['nnv'] = len(re.findall('(NOUN NOUN VERB)', pos_string))\n",
    "    features['vnn'] = len(re.findall('(VERB NOUN NOUN)', pos_string))\n",
    "    features['vnv'] = len(re.findall('(VERB NOUN VERB)', pos_string))\n",
    "    features['nap'] = len(re.findall('(NOUN ADP PROPN)', pos_string))\n",
    "    features['nnc'] = len(re.findall('(NOUN NOUN CCONJ)', pos_string))\n",
    "    features['nad'] = len(re.findall('(NOUN ADP DET)', pos_string))\n",
    "    features['dna'] = len(re.findall('(DET NOUN ADP)', pos_string))\n",
    "    features['nnn'] = len(re.findall('(NOUN NOUN NOUN)', pos_string))\n",
    "    features['nan'] = len(re.findall('(NOUN ADP NOUN)', pos_string))\n",
    "    features['vad'] = len(re.findall('(VERB ADP DET)', pos_string))\n",
    "    \n",
    "    return features \n",
    "\n",
    "\n",
    "closed_class = ['ADP','AUX','CCONJ','DET','NUM','PART','PRON','SCONJ']\n",
    "\n",
    "ids = df['id'].unique()\n",
    "\n",
    "mean_features = pd.DataFrame(columns=['id','spelling_errors', 'no_tag', 'sym', 'punct', 'nvn','nnv','vnn','vnv','nap','nnc','nad','dna','nnn','nan','vad'])\n",
    "i = 0\n",
    "for id in ids:\n",
    "    if i == 1:\n",
    "        break \n",
    "    i+=1 \n",
    "    all_features = []\n",
    "    for text in df.loc[df['id']==id, 'text']:\n",
    "        \n",
    "        tokenized = nlp(text)\n",
    "        pos_only = []\n",
    "        word_freq = {}\n",
    "        for token in tokenized:\n",
    "            pos_only.append(token.pos_)\n",
    "            # print(token.lemma_, token.pos_, token.tag_)\n",
    "            if token.lemma_ not in word_freq.keys():\n",
    "                word_freq[token.lemma_] = 1\n",
    "            else:\n",
    "                word_freq[token.lemma_] += 1\n",
    "                \n",
    "        features = get_trigram_features(' '.join(pos_only))\n",
    "        features['id']=id\n",
    "        features['spelling_errors'] = len(tokenized._.suggestions_spellCheck)\n",
    "        features['no_tag'] = pos_only.count('X')\n",
    "        features['sym'] = pos_only.count('SYM')\n",
    "        features['punct'] = pos_only.count('PUNCT')\n",
    "        freq_sorted = dict(sorted(word_freq.items(), key=lambda item: item[1]))\n",
    "        \n",
    "        \n",
    "        all_features.append(features)\n",
    "    \n",
    "    mean = pd.DataFrame(all_features)\n",
    "    # print(mean)\n",
    "    mean_features = mean_features.append(mean, ignore_index=True)\n",
    "print(mean_features)"
   ]
  },
  {
   "cell_type": "code",
   "execution_count": 24,
   "metadata": {},
   "outputs": [
    {
     "name": "stdout",
     "output_type": "stream",
     "text": [
      "11\n",
      "4\n",
      "14\n"
     ]
    }
   ],
   "source": [
    "i = 0\n",
    "for text in df.loc[df['id']== 3310475, 'text']:\n",
    "    if i == 3:\n",
    "        break\n",
    "    i += 1\n",
    "    tokenized = nlp(text)\n",
    "    print(len(tokenized._.suggestions_spellCheck))\n",
    "    pos_only = []\n",
    "    word_freq = {}\n",
    "    for token in tokenized:\n",
    "        if not token.text.isspace():\n",
    "            pos_only.append(token.pos_)\n",
    "            # print(token.lemma_, token.pos_, token.tag_)\n",
    "            if token.lemma_ not in word_freq.keys():\n",
    "                word_freq[token.lemma_] = 1\n",
    "            else:\n",
    "                word_freq[token.lemma_] += 1\n",
    "            \n",
    "    features = get_trigram_features(' '.join(pos_only))\n",
    "    features['id']=id\n",
    "    features['spelling_errors'] = len(tokenized._.suggestions_spellCheck)\n",
    "    features['no_tag'] = pos_only.count('X')\n",
    "    features['sym'] = pos_only.count('SYM')\n",
    "    features['punct'] = pos_only.count('PUNCT')\n",
    "    freq_sorted = dict(sorted(word_freq.items(), key=lambda item: item[1], reverse=True))\n",
    "        \n",
    "        "
   ]
  },
  {
   "cell_type": "code",
   "execution_count": 27,
   "metadata": {},
   "outputs": [
    {
     "name": "stdout",
     "output_type": "stream",
     "text": [
      "{'a': 16, 'be': 15, 'I': 15, 'on': 9, 'to': 8, 'it': 7, 'which': 6, 'you': 6, 'of': 5, 'do': 5, '.': 5, \"'ve\": 5, 'and': 5, 'for': 4, ',': 4, 'the': 4, 'if': 4, 'see': 4, 'again': 3, 'have': 3, \"n't\": 3, 'add': 3, 'get': 3, 'now': 3, 'that': 3, 'so': 3, 'everyone': 2, 'another': 2, 'an': 2, 'he': 2, 'today': 2, 'quite': 2, 'site': 2, 'still': 2, 'my': 2, 'can': 2, 'also': 2, 'forum': 2, 'use': 2, 'as': 2, 'go': 2, 'there': 2, 'link': 2, 'off': 2, '...': 2, 'work': 2, 'well': 2, \"'ll\": 2, 'we': 2, 'may': 2, 'while': 2, 'channel': 2, 'hilarious': 2, 'take': 2, 'hello': 1, 'daily': 1, 'installment': 1, 'bald': 1, \"'s\": 1, 'blog': 1, 'general': 1, 'idea': 1, 'what': 1, 'happen': 1, 'lot': 1, 'yes': 1, 'lease': 1, 'big': 1, 'update': 1, 'world': 1, 'angst': 1, 'at': 1, 'angelfire.com/vamp/woa': 1, 'chat': 1, 'server': 1, 'computer': 1, 'will': 1, 'ours': 1, 'hope': 1, 'more': 1, 'than': 1, 'few': 1, 'other': 1, 'know': 1, 'guestbook': 1, 'look': 1, 'shy': 1, 'couple': 1, 'thing': 1, 'include': 1, 'wrighte': 1, 'short': 1, 'bio': 1, 'thank': 1, 'page': 1, 'who': 1, 'help': 1, 'even': 1, 'passively': 1, 'friend': 1, 'lastly': 1, 'weird': 1, 'guy': 1, 'random': 1, 'stuff': 1, 'strange': 1, 'up': 1, '-': 1, 'bringing': 1, 'something': 1, 'not': 1, 'yet': 1, 'quoter': 1, 'bottom': 1, 'bar': 1, 'would': 1, 'damm': 1, 'annoying': 1, 'oh': 1, 'out': 1, 'later': 1, 'thirdly': 1, 'finally': 1, 'happy': 1, 'holidaying': 1, 'Ben': 1, 'should': 1, 'all': 1, 'lucky': 1, 'holiday': 1, 'ahoy': 1, 'ship': 1, 'fortune': 1, 'blow': 1, 'your': 1, 'way': 1, 'continue': 1, 'some': 1, 'time': 1, 'after': 1, 'just': 1, 'long': 1, 'let': 1, 'anyway': 1, 'home': 1, 'cooking': 1, 'where': 1, 'make': 1, 'bread': 1, 'mean': 1, 'viewer': 1, 'watch': 1, 'this': 1, 'cut': 1, 'from': 1, 'american': 1, 'shopping': 1, 'LOL': 1, 'tv': 1, 'presenter': 1, 'load': 1, 'but': 1, 'find': 1}\n",
      "{'a': 1, 'be': 2, 'I': 2, 'on': 3, 'to': 4, 'it': 5, 'which': 6, 'you': 6, 'of': 7, 'do': 7, '.': 7, \"'ve\": 7, 'and': 7, 'for': 8, ',': 8, 'the': 8, 'if': 8, 'see': 8, 'again': 9, 'have': 9, \"n't\": 9, 'add': 9, 'get': 9, 'now': 9, 'that': 9, 'so': 9, 'everyone': 10, 'another': 10, 'an': 10, 'he': 10, 'today': 10, 'quite': 10, 'site': 10, 'still': 10, 'my': 10, 'can': 10, 'also': 10, 'forum': 10, 'use': 10, 'as': 10, 'go': 10, 'there': 10, 'link': 10, 'off': 10, '...': 10, 'work': 10, 'well': 10, \"'ll\": 10, 'we': 10, 'may': 10, 'while': 10, 'channel': 10, 'hilarious': 10, 'take': 10, 'hello': 11, 'daily': 11, 'installment': 11, 'bald': 11, \"'s\": 11, 'blog': 11, 'general': 11, 'idea': 11, 'what': 11, 'happen': 11, 'lot': 11, 'yes': 11, 'lease': 11, 'big': 11, 'update': 11, 'world': 11, 'angst': 11, 'at': 11, 'angelfire.com/vamp/woa': 11, 'chat': 11, 'server': 11, 'computer': 11, 'will': 11, 'ours': 11, 'hope': 11, 'more': 11, 'than': 11, 'few': 11, 'other': 11, 'know': 11, 'guestbook': 11, 'look': 11, 'shy': 11, 'couple': 11, 'thing': 11, 'include': 11, 'wrighte': 11, 'short': 11, 'bio': 11, 'thank': 11, 'page': 11, 'who': 11, 'help': 11, 'even': 11, 'passively': 11, 'friend': 11, 'lastly': 11, 'weird': 11, 'guy': 11, 'random': 11, 'stuff': 11, 'strange': 11, 'up': 11, '-': 11, 'bringing': 11, 'something': 11, 'not': 11, 'yet': 11, 'quoter': 11, 'bottom': 11, 'bar': 11, 'would': 11, 'damm': 11, 'annoying': 11, 'oh': 11, 'out': 11, 'later': 11, 'thirdly': 11, 'finally': 11, 'happy': 11, 'holidaying': 11, 'Ben': 11, 'should': 11, 'all': 11, 'lucky': 11, 'holiday': 11, 'ahoy': 11, 'ship': 11, 'fortune': 11, 'blow': 11, 'your': 11, 'way': 11, 'continue': 11, 'some': 11, 'time': 11, 'after': 11, 'just': 11, 'long': 11, 'let': 11, 'anyway': 11, 'home': 11, 'cooking': 11, 'where': 11, 'make': 11, 'bread': 11, 'mean': 11, 'viewer': 11, 'watch': 11, 'this': 11, 'cut': 11, 'from': 11, 'american': 11, 'shopping': 11, 'LOL': 11, 'tv': 11, 'presenter': 11, 'load': 11, 'but': 11, 'find': 11}\n",
      "10.153374233128835\n"
     ]
    }
   ],
   "source": [
    "print(freq_sorted)\n",
    "prev = max(freq_sorted.values())\n",
    "rank = 1\n",
    "ranks = {}\n",
    "sum_rank = 0\n",
    "for word, freq in freq_sorted.items():\n",
    "    if freq < prev:\n",
    "        rank += 1\n",
    "        prev = freq\n",
    "    ranks[word] = rank\n",
    "    sum_rank += rank\n",
    "print(ranks)\n",
    "print(sum_rank/len(ranks))"
   ]
  },
  {
   "cell_type": "code",
   "execution_count": 19,
   "metadata": {},
   "outputs": [
    {
     "ename": "ValueError",
     "evalue": "x and y must be the same size",
     "output_type": "error",
     "traceback": [
      "\u001b[0;31m---------------------------------------------------------------------------\u001b[0m",
      "\u001b[0;31mValueError\u001b[0m                                Traceback (most recent call last)",
      "\u001b[0;32m/tmp/ipykernel_5036/236282945.py\u001b[0m in \u001b[0;36m<module>\u001b[0;34m\u001b[0m\n\u001b[1;32m     12\u001b[0m \u001b[0mcols\u001b[0m \u001b[0;34m=\u001b[0m \u001b[0mmean_feat\u001b[0m\u001b[0;34m.\u001b[0m\u001b[0mcolumns\u001b[0m\u001b[0;34m[\u001b[0m\u001b[0;34m:\u001b[0m\u001b[0;34m-\u001b[0m\u001b[0;36m3\u001b[0m\u001b[0;34m]\u001b[0m\u001b[0;34m\u001b[0m\u001b[0;34m\u001b[0m\u001b[0m\n\u001b[1;32m     13\u001b[0m \u001b[0;32mfor\u001b[0m \u001b[0mid\u001b[0m \u001b[0;32min\u001b[0m \u001b[0mids\u001b[0m\u001b[0;34m:\u001b[0m\u001b[0;34m\u001b[0m\u001b[0;34m\u001b[0m\u001b[0m\n\u001b[0;32m---> 14\u001b[0;31m     \u001b[0mplt\u001b[0m\u001b[0;34m.\u001b[0m\u001b[0mscatter\u001b[0m\u001b[0;34m(\u001b[0m\u001b[0mcols\u001b[0m\u001b[0;34m,\u001b[0m \u001b[0mmean_feat\u001b[0m\u001b[0;34m.\u001b[0m\u001b[0mloc\u001b[0m\u001b[0;34m[\u001b[0m\u001b[0mmean_feat\u001b[0m\u001b[0;34m[\u001b[0m\u001b[0;34m'id'\u001b[0m\u001b[0;34m]\u001b[0m\u001b[0;34m==\u001b[0m\u001b[0mid\u001b[0m\u001b[0;34m,\u001b[0m \u001b[0mmean_feat\u001b[0m\u001b[0;34m.\u001b[0m\u001b[0mcolumns\u001b[0m \u001b[0;34m!=\u001b[0m \u001b[0;34m'id'\u001b[0m\u001b[0;34m]\u001b[0m\u001b[0;34m)\u001b[0m\u001b[0;34m\u001b[0m\u001b[0;34m\u001b[0m\u001b[0m\n\u001b[0m\u001b[1;32m     15\u001b[0m \u001b[0;34m\u001b[0m\u001b[0m\n",
      "\u001b[0;32m~/anaconda3/envs/nlp/lib/python3.8/site-packages/matplotlib/pyplot.py\u001b[0m in \u001b[0;36mscatter\u001b[0;34m(x, y, s, c, marker, cmap, norm, vmin, vmax, alpha, linewidths, verts, edgecolors, plotnonfinite, data, **kwargs)\u001b[0m\n\u001b[1;32m   2888\u001b[0m         \u001b[0mverts\u001b[0m\u001b[0;34m=\u001b[0m\u001b[0mcbook\u001b[0m\u001b[0;34m.\u001b[0m\u001b[0mdeprecation\u001b[0m\u001b[0;34m.\u001b[0m\u001b[0m_deprecated_parameter\u001b[0m\u001b[0;34m,\u001b[0m\u001b[0;34m\u001b[0m\u001b[0;34m\u001b[0m\u001b[0m\n\u001b[1;32m   2889\u001b[0m         edgecolors=None, *, plotnonfinite=False, data=None, **kwargs):\n\u001b[0;32m-> 2890\u001b[0;31m     __ret = gca().scatter(\n\u001b[0m\u001b[1;32m   2891\u001b[0m         \u001b[0mx\u001b[0m\u001b[0;34m,\u001b[0m \u001b[0my\u001b[0m\u001b[0;34m,\u001b[0m \u001b[0ms\u001b[0m\u001b[0;34m=\u001b[0m\u001b[0ms\u001b[0m\u001b[0;34m,\u001b[0m \u001b[0mc\u001b[0m\u001b[0;34m=\u001b[0m\u001b[0mc\u001b[0m\u001b[0;34m,\u001b[0m \u001b[0mmarker\u001b[0m\u001b[0;34m=\u001b[0m\u001b[0mmarker\u001b[0m\u001b[0;34m,\u001b[0m \u001b[0mcmap\u001b[0m\u001b[0;34m=\u001b[0m\u001b[0mcmap\u001b[0m\u001b[0;34m,\u001b[0m \u001b[0mnorm\u001b[0m\u001b[0;34m=\u001b[0m\u001b[0mnorm\u001b[0m\u001b[0;34m,\u001b[0m\u001b[0;34m\u001b[0m\u001b[0;34m\u001b[0m\u001b[0m\n\u001b[1;32m   2892\u001b[0m         \u001b[0mvmin\u001b[0m\u001b[0;34m=\u001b[0m\u001b[0mvmin\u001b[0m\u001b[0;34m,\u001b[0m \u001b[0mvmax\u001b[0m\u001b[0;34m=\u001b[0m\u001b[0mvmax\u001b[0m\u001b[0;34m,\u001b[0m \u001b[0malpha\u001b[0m\u001b[0;34m=\u001b[0m\u001b[0malpha\u001b[0m\u001b[0;34m,\u001b[0m \u001b[0mlinewidths\u001b[0m\u001b[0;34m=\u001b[0m\u001b[0mlinewidths\u001b[0m\u001b[0;34m,\u001b[0m\u001b[0;34m\u001b[0m\u001b[0;34m\u001b[0m\u001b[0m\n",
      "\u001b[0;32m~/anaconda3/envs/nlp/lib/python3.8/site-packages/matplotlib/__init__.py\u001b[0m in \u001b[0;36minner\u001b[0;34m(ax, data, *args, **kwargs)\u001b[0m\n\u001b[1;32m   1445\u001b[0m     \u001b[0;32mdef\u001b[0m \u001b[0minner\u001b[0m\u001b[0;34m(\u001b[0m\u001b[0max\u001b[0m\u001b[0;34m,\u001b[0m \u001b[0;34m*\u001b[0m\u001b[0margs\u001b[0m\u001b[0;34m,\u001b[0m \u001b[0mdata\u001b[0m\u001b[0;34m=\u001b[0m\u001b[0;32mNone\u001b[0m\u001b[0;34m,\u001b[0m \u001b[0;34m**\u001b[0m\u001b[0mkwargs\u001b[0m\u001b[0;34m)\u001b[0m\u001b[0;34m:\u001b[0m\u001b[0;34m\u001b[0m\u001b[0;34m\u001b[0m\u001b[0m\n\u001b[1;32m   1446\u001b[0m         \u001b[0;32mif\u001b[0m \u001b[0mdata\u001b[0m \u001b[0;32mis\u001b[0m \u001b[0;32mNone\u001b[0m\u001b[0;34m:\u001b[0m\u001b[0;34m\u001b[0m\u001b[0;34m\u001b[0m\u001b[0m\n\u001b[0;32m-> 1447\u001b[0;31m             \u001b[0;32mreturn\u001b[0m \u001b[0mfunc\u001b[0m\u001b[0;34m(\u001b[0m\u001b[0max\u001b[0m\u001b[0;34m,\u001b[0m \u001b[0;34m*\u001b[0m\u001b[0mmap\u001b[0m\u001b[0;34m(\u001b[0m\u001b[0msanitize_sequence\u001b[0m\u001b[0;34m,\u001b[0m \u001b[0margs\u001b[0m\u001b[0;34m)\u001b[0m\u001b[0;34m,\u001b[0m \u001b[0;34m**\u001b[0m\u001b[0mkwargs\u001b[0m\u001b[0;34m)\u001b[0m\u001b[0;34m\u001b[0m\u001b[0;34m\u001b[0m\u001b[0m\n\u001b[0m\u001b[1;32m   1448\u001b[0m \u001b[0;34m\u001b[0m\u001b[0m\n\u001b[1;32m   1449\u001b[0m         \u001b[0mbound\u001b[0m \u001b[0;34m=\u001b[0m \u001b[0mnew_sig\u001b[0m\u001b[0;34m.\u001b[0m\u001b[0mbind\u001b[0m\u001b[0;34m(\u001b[0m\u001b[0max\u001b[0m\u001b[0;34m,\u001b[0m \u001b[0;34m*\u001b[0m\u001b[0margs\u001b[0m\u001b[0;34m,\u001b[0m \u001b[0;34m**\u001b[0m\u001b[0mkwargs\u001b[0m\u001b[0;34m)\u001b[0m\u001b[0;34m\u001b[0m\u001b[0;34m\u001b[0m\u001b[0m\n",
      "\u001b[0;32m~/anaconda3/envs/nlp/lib/python3.8/site-packages/matplotlib/cbook/deprecation.py\u001b[0m in \u001b[0;36mwrapper\u001b[0;34m(*inner_args, **inner_kwargs)\u001b[0m\n\u001b[1;32m    409\u001b[0m                          \u001b[0;32melse\u001b[0m \u001b[0mdeprecation_addendum\u001b[0m\u001b[0;34m,\u001b[0m\u001b[0;34m\u001b[0m\u001b[0;34m\u001b[0m\u001b[0m\n\u001b[1;32m    410\u001b[0m                 **kwargs)\n\u001b[0;32m--> 411\u001b[0;31m         \u001b[0;32mreturn\u001b[0m \u001b[0mfunc\u001b[0m\u001b[0;34m(\u001b[0m\u001b[0;34m*\u001b[0m\u001b[0minner_args\u001b[0m\u001b[0;34m,\u001b[0m \u001b[0;34m**\u001b[0m\u001b[0minner_kwargs\u001b[0m\u001b[0;34m)\u001b[0m\u001b[0;34m\u001b[0m\u001b[0;34m\u001b[0m\u001b[0m\n\u001b[0m\u001b[1;32m    412\u001b[0m \u001b[0;34m\u001b[0m\u001b[0m\n\u001b[1;32m    413\u001b[0m     \u001b[0;32mreturn\u001b[0m \u001b[0mwrapper\u001b[0m\u001b[0;34m\u001b[0m\u001b[0;34m\u001b[0m\u001b[0m\n",
      "\u001b[0;32m~/anaconda3/envs/nlp/lib/python3.8/site-packages/matplotlib/axes/_axes.py\u001b[0m in \u001b[0;36mscatter\u001b[0;34m(self, x, y, s, c, marker, cmap, norm, vmin, vmax, alpha, linewidths, verts, edgecolors, plotnonfinite, **kwargs)\u001b[0m\n\u001b[1;32m   4439\u001b[0m         \u001b[0my\u001b[0m \u001b[0;34m=\u001b[0m \u001b[0mnp\u001b[0m\u001b[0;34m.\u001b[0m\u001b[0mma\u001b[0m\u001b[0;34m.\u001b[0m\u001b[0mravel\u001b[0m\u001b[0;34m(\u001b[0m\u001b[0my\u001b[0m\u001b[0;34m)\u001b[0m\u001b[0;34m\u001b[0m\u001b[0;34m\u001b[0m\u001b[0m\n\u001b[1;32m   4440\u001b[0m         \u001b[0;32mif\u001b[0m \u001b[0mx\u001b[0m\u001b[0;34m.\u001b[0m\u001b[0msize\u001b[0m \u001b[0;34m!=\u001b[0m \u001b[0my\u001b[0m\u001b[0;34m.\u001b[0m\u001b[0msize\u001b[0m\u001b[0;34m:\u001b[0m\u001b[0;34m\u001b[0m\u001b[0;34m\u001b[0m\u001b[0m\n\u001b[0;32m-> 4441\u001b[0;31m             \u001b[0;32mraise\u001b[0m \u001b[0mValueError\u001b[0m\u001b[0;34m(\u001b[0m\u001b[0;34m\"x and y must be the same size\"\u001b[0m\u001b[0;34m)\u001b[0m\u001b[0;34m\u001b[0m\u001b[0;34m\u001b[0m\u001b[0m\n\u001b[0m\u001b[1;32m   4442\u001b[0m \u001b[0;34m\u001b[0m\u001b[0m\n\u001b[1;32m   4443\u001b[0m         \u001b[0;32mif\u001b[0m \u001b[0ms\u001b[0m \u001b[0;32mis\u001b[0m \u001b[0;32mNone\u001b[0m\u001b[0;34m:\u001b[0m\u001b[0;34m\u001b[0m\u001b[0;34m\u001b[0m\u001b[0m\n",
      "\u001b[0;31mValueError\u001b[0m: x and y must be the same size"
     ]
    },
    {
     "data": {
      "image/png": "[encoded data removed]",
      "text/plain": [
       "<Figure size 432x288 with 1 Axes>"
      ]
     },
     "metadata": {
      "needs_background": "light"
     },
     "output_type": "display_data"
    }
   ],
   "source": [
    "\n",
    "mean_features = mean_features.apply(pd.to_numeric)\n",
    "mean_feat = mean_features.groupby('id').mean()\n",
    "\n",
    "\n",
    "import matplotlib.pyplot as plt\n",
    "\n",
    "mean_feat['id'] = mean_feat.index\n",
    "ids = mean_feat['id'].unique()\n",
    "\n",
    "plt.figure()\n",
    "\n",
    "cols = mean_feat.columns[:-3]\n",
    "for id in ids:\n",
    "    plt.scatter(cols, mean_feat.loc[mean_feat['id']==id, mean_feat.columns != 'id'])\n",
    "\n"
   ]
  },
  {
   "cell_type": "code",
   "execution_count": null,
   "metadata": {},
   "outputs": [],
   "source": []
  }
 ],
 "metadata": {
  "interpreter": {
   "hash": "2059d54db69b409a30853061144d64e50a683fe5528e4a38afc9635b706f8a27"
  },
  "kernelspec": {
   "display_name": "Python 3.8.12 ('nlp')",
   "language": "python",
   "name": "python3"
  },
  "language_info": {
   "codemirror_mode": {
    "name": "ipython",
    "version": 3
   },
   "file_extension": ".py",
   "mimetype": "text/x-python",
   "name": "python",
   "nbconvert_exporter": "python",
   "pygments_lexer": "ipython3",
   "version": "3.8.12"
  },
  "orig_nbformat": 4
 },
 "nbformat": 4,
 "nbformat_minor": 2
}
