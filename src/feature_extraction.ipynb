{
 "cells": [
  {
   "cell_type": "code",
   "execution_count": 97,
   "metadata": {},
   "outputs": [],
   "source": [
    "import pandas as pd\n",
    "import spacy\n",
    "import re\n",
    "nlp = spacy.load(\"en_core_web_sm\")\n",
    "data_set = pd.read_csv('blogtext.csv')"
   ]
  },
  {
   "cell_type": "code",
   "execution_count": 44,
   "metadata": {},
   "outputs": [
    {
     "name": "stdout",
     "output_type": "stream",
     "text": [
      "topic\n",
      "Accounting                   3832\n",
      "Advertising                  4676\n",
      "Agriculture                  1235\n",
      "Architecture                 1638\n",
      "Arts                        32449\n",
      "Automotive                   1244\n",
      "Banking                      4049\n",
      "Biotech                      2234\n",
      "BusinessServices             4500\n",
      "Chemicals                    3928\n",
      "Communications-Media        20140\n",
      "Construction                 1093\n",
      "Consulting                   5862\n",
      "Education                   29633\n",
      "Engineering                 11653\n",
      "Environment                   592\n",
      "Fashion                      4851\n",
      "Government                   6907\n",
      "HumanResources               3010\n",
      "Internet                    16006\n",
      "InvestmentBanking            1292\n",
      "Law                          9040\n",
      "LawEnforcement-Security      1878\n",
      "Manufacturing                2272\n",
      "Maritime                      280\n",
      "Marketing                    4769\n",
      "Military                     3128\n",
      "Museums-Libraries            3096\n",
      "Non-Profit                  14700\n",
      "Publishing                   7753\n",
      "RealEstate                   2870\n",
      "Religion                     5235\n",
      "Science                      7269\n",
      "Sports-Recreation            3038\n",
      "Student                    153903\n",
      "Technology                  42055\n",
      "Telecommunications           3891\n",
      "Tourism                      1942\n",
      "Transportation               2326\n",
      "indUnk                     251015\n",
      "Name: id, dtype: int64\n"
     ]
    }
   ],
   "source": [
    "print(data_set.groupby('topic')['id'].count())"
   ]
  },
  {
   "cell_type": "code",
   "execution_count": 63,
   "metadata": {},
   "outputs": [
    {
     "name": "stdout",
     "output_type": "stream",
     "text": [
      "             id gender  age    topic    sign          date  \\\n",
      "15441   3463001   male   41  Biotech     Leo   28,May,2004   \n",
      "15442   3463001   male   41  Biotech     Leo   27,May,2004   \n",
      "15443   3463001   male   41  Biotech     Leo   26,May,2004   \n",
      "15444   3463001   male   41  Biotech     Leo   26,May,2004   \n",
      "15445   3463001   male   41  Biotech     Leo  30,June,2004   \n",
      "...         ...    ...  ...      ...     ...           ...   \n",
      "673724  2373875   male   25  Biotech  Taurus  23,Maio,2004   \n",
      "673725  2373875   male   25  Biotech  Taurus  23,Maio,2004   \n",
      "673726  2373875   male   25  Biotech  Taurus  23,Maio,2004   \n",
      "673727  2373875   male   25  Biotech  Taurus  23,Maio,2004   \n",
      "673728  2373875   male   25  Biotech  Taurus  23,Maio,2004   \n",
      "\n",
      "                                                     text  \n",
      "15441          Couldn't sleep last night at all. The i...  \n",
      "15442          I saw it. The video.   It's every bit a...  \n",
      "15443          Today is busy. Prep day. Tomorrow, Cher...  \n",
      "15444          Now that I am home and not wasting my c...  \n",
      "15445          I got this from a friend recently and I...  \n",
      "...                                                   ...  \n",
      "673724          Immunocompromised patients are the mos...  \n",
      "673725          incendiary ,precis ,ticklish ,suffocat...  \n",
      "673726         Hello Mark,  Eternity is a very long ti...  \n",
      "673727          dauphin ,crouch ,potent ,float .  coxc...  \n",
      "673728         potlatch,him like that:,potlatch,him li...  \n",
      "\n",
      "[2234 rows x 7 columns]\n",
      "10\n"
     ]
    }
   ],
   "source": [
    "data_bio = data_set[data_set['topic']=='Biotech']\n",
    "data = data_bio[['id', 'text', 'date']]\n",
    "df = data[data.groupby('id')['id'].transform('size') > 50]\n",
    "print(len(df.groupby('id')))\n"
   ]
  },
  {
   "cell_type": "code",
   "execution_count": 120,
   "metadata": {},
   "outputs": [
    {
     "name": "stdout",
     "output_type": "stream",
     "text": [
      "           id nvn nnv vnn vnv nap nnc nad dna nnn nan vad\n",
      "0     3310475   1   0   0   0   0   1   0   0   0   0   1\n",
      "1     3310475   0   0   0   0   0   0   0   0   0   0   0\n",
      "2     3310475   0   0   0   0   0   1   3   5   1   3   1\n",
      "3     3310475   0   0   0   0   0   1   4   5   0   7   3\n",
      "4     3310475   0   0   1   0   0   0   0   0   0   0   0\n",
      "...       ...  ..  ..  ..  ..  ..  ..  ..  ..  ..  ..  ..\n",
      "1537  2373875   0   1   0   0   0   0   1   3   2   4   1\n",
      "1538  2373875   0   0   0   0   0   0   0   0   0   0   0\n",
      "1539  2373875   0   0   0   0   0   0   0   1   0   0   0\n",
      "1540  2373875   0   0   0   0   0   0   0   0   0   0   0\n",
      "1541  2373875   0   0   0   0   0   0   0   0   0   0   0\n",
      "\n",
      "[1542 rows x 12 columns]\n"
     ]
    }
   ],
   "source": [
    "def get_trigram_features(pos_string):\n",
    "    # Trigrams list\n",
    "    # NVN NNV VNN NADPPROPN NNCCONJ NOUNPREPDET DETNOUNPREP VNV NNN  NOUNPREPNOUN VPREPDET\n",
    "    features = {}\n",
    "    features['nvn'] = len(re.findall('(NOUN VERB NOUN)', pos_string))\n",
    "    features['nnv'] = len(re.findall('(NOUN NOUN VERB)', pos_string))\n",
    "    features['vnn'] = len(re.findall('(VERB NOUN NOUN)', pos_string))\n",
    "    features['vnv'] = len(re.findall('(VERB NOUN VERB)', pos_string))\n",
    "    features['nap'] = len(re.findall('(NOUN ADP PROPN)', pos_string))\n",
    "    features['nnc'] = len(re.findall('(NOUN NOUN CCONJ)', pos_string))\n",
    "    features['nad'] = len(re.findall('(NOUN ADP DET)', pos_string))\n",
    "    features['dna'] = len(re.findall('(DET NOUN ADP)', pos_string))\n",
    "    features['nnn'] = len(re.findall('(NOUN NOUN NOUN)', pos_string))\n",
    "    features['nan'] = len(re.findall('(NOUN ADP NOUN)', pos_string))\n",
    "    features['vad'] = len(re.findall('(VERB ADP DET)', pos_string))\n",
    "    \n",
    "    return features \n",
    "\n",
    "\n",
    "closed_class = ['ADP','AUX','CCONJ','DET','NUM','PART','PRON','SCONJ']\n",
    "\n",
    "ids = df['id'].unique()\n",
    "\n",
    "mean_features = pd.DataFrame(columns=['id','nvn','nnv','vnn','vnv','nap','nnc','nad','dna','nnn','nan','vad'])\n",
    "for id in ids:\n",
    "    features = []\n",
    "    for text in df.loc[df['id']==id, 'text']:\n",
    "        tokenized = nlp(text)\n",
    "        pos_only = []\n",
    "        for token in tokenized:\n",
    "            pos_only.append(token.pos_)\n",
    "            # print(token.lemma_, token.pos_, token.tag_)\n",
    "        trigram_features = get_trigram_features(' '.join(pos_only))\n",
    "        trigram_features['id']=id\n",
    "        features.append(trigram_features)\n",
    "    \n",
    "    mean = pd.DataFrame(features)\n",
    "    # print(mean)\n",
    "    mean_features = mean_features.append(mean, ignore_index=True)\n",
    "print(mean_features)"
   ]
  },
  {
   "cell_type": "code",
   "execution_count": 149,
   "metadata": {},
   "outputs": [
    {
     "data": {
      "image/png": "[encoded data removed]",
      "text/plain": [
       "<Figure size 432x288 with 1 Axes>"
      ]
     },
     "metadata": {
      "needs_background": "light"
     },
     "output_type": "display_data"
    }
   ],
   "source": [
    "\n",
    "mean_features = mean_features.apply(pd.to_numeric)\n",
    "mean_feat = mean_features.groupby('id').mean()\n",
    "\n",
    "\n",
    "import matplotlib.pyplot as plt\n",
    "\n",
    "mean_feat['id'] = mean_feat.index\n",
    "ids = mean_feat['id'].unique()\n",
    "\n",
    "plt.figure()\n",
    "\n",
    "cols = mean_feat.columns[:-1]\n",
    "for id in ids:\n",
    "    plt.scatter(cols, mean_feat.loc[mean_feat['id']==id, mean_feat.columns != 'id'])\n",
    "\n"
   ]
  },
  {
   "cell_type": "code",
   "execution_count": null,
   "metadata": {},
   "outputs": [],
   "source": []
  }
 ],
 "metadata": {
  "interpreter": {
   "hash": "2059d54db69b409a30853061144d64e50a683fe5528e4a38afc9635b706f8a27"
  },
  "kernelspec": {
   "display_name": "Python 3.8.12 ('nlp')",
   "language": "python",
   "name": "python3"
  },
  "language_info": {
   "codemirror_mode": {
    "name": "ipython",
    "version": 3
   },
   "file_extension": ".py",
   "mimetype": "text/x-python",
   "name": "python",
   "nbconvert_exporter": "python",
   "pygments_lexer": "ipython3",
   "version": "3.8.12"
  },
  "orig_nbformat": 4
 },
 "nbformat": 4,
 "nbformat_minor": 2
}
