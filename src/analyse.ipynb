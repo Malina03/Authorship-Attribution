{
 "cells": [
  {
   "cell_type": "code",
   "execution_count": 4,
   "metadata": {},
   "outputs": [],
   "source": [
    "from data_utils import load_pickle, save_pickle, make_numeric\n",
    "from plotting import *\n",
    "from feature_extraction import get_features"
   ]
  },
  {
   "cell_type": "code",
   "execution_count": 3,
   "metadata": {},
   "outputs": [
    {
     "ename": "NameError",
     "evalue": "name 'get_features' is not defined",
     "output_type": "error",
     "traceback": [
      "\u001b[0;31m---------------------------------------------------------------------------\u001b[0m",
      "\u001b[0;31mNameError\u001b[0m                                 Traceback (most recent call last)",
      "\u001b[0;32m/tmp/ipykernel_1545/1037553912.py\u001b[0m in \u001b[0;36m<module>\u001b[0;34m\u001b[0m\n\u001b[1;32m      2\u001b[0m \u001b[0mdummy\u001b[0m \u001b[0;34m=\u001b[0m \u001b[0;34m[\u001b[0m\u001b[0;34m'1'\u001b[0m\u001b[0;34m,\u001b[0m\u001b[0;34m'2'\u001b[0m\u001b[0;34m,\u001b[0m \u001b[0;34m'3'\u001b[0m\u001b[0;34m,\u001b[0m \u001b[0;34m'4'\u001b[0m\u001b[0;34m,\u001b[0m \u001b[0;34m'5'\u001b[0m\u001b[0;34m]\u001b[0m\u001b[0;34m\u001b[0m\u001b[0;34m\u001b[0m\u001b[0m\n\u001b[1;32m      3\u001b[0m \u001b[0memea_small\u001b[0m \u001b[0;34m=\u001b[0m \u001b[0memea\u001b[0m\u001b[0;34m.\u001b[0m\u001b[0mloc\u001b[0m\u001b[0;34m[\u001b[0m\u001b[0memea\u001b[0m\u001b[0;34m[\u001b[0m\u001b[0;34m'doc'\u001b[0m\u001b[0;34m]\u001b[0m\u001b[0;34m.\u001b[0m\u001b[0misin\u001b[0m\u001b[0;34m(\u001b[0m\u001b[0mdummy\u001b[0m\u001b[0;34m)\u001b[0m\u001b[0;34m]\u001b[0m\u001b[0;34m\u001b[0m\u001b[0;34m\u001b[0m\u001b[0m\n\u001b[0;32m----> 4\u001b[0;31m \u001b[0mfeatures\u001b[0m \u001b[0;34m=\u001b[0m \u001b[0mget_features\u001b[0m\u001b[0;34m(\u001b[0m\u001b[0memea_small\u001b[0m\u001b[0;34m,\u001b[0m \u001b[0;34m'doc'\u001b[0m\u001b[0;34m)\u001b[0m\u001b[0;34m\u001b[0m\u001b[0;34m\u001b[0m\u001b[0m\n\u001b[0m\u001b[1;32m      5\u001b[0m \u001b[0msave_pickle\u001b[0m\u001b[0;34m(\u001b[0m\u001b[0mfeatures\u001b[0m\u001b[0;34m,\u001b[0m \u001b[0;34m'../output/features/emea_1-5.pickle'\u001b[0m\u001b[0;34m)\u001b[0m\u001b[0;34m\u001b[0m\u001b[0;34m\u001b[0m\u001b[0m\n\u001b[1;32m      6\u001b[0m \u001b[0;34m\u001b[0m\u001b[0m\n",
      "\u001b[0;31mNameError\u001b[0m: name 'get_features' is not defined"
     ]
    }
   ],
   "source": [
    "emea = load_pickle('../data/emea_resized.pickle')\n",
    "dummy = ['1','2', '3', '4', '5']\n",
    "emea_small = emea.loc[emea['doc'].isin(dummy)]\n",
    "features = get_features(emea_small, 'doc')\n",
    "save_pickle(features, '../output/features/emea_1-5.pickle')\n",
    "\n",
    "gnome = load_pickle('../data/gnome_resized.pickle')\n",
    "dummy = ['1','2', '3', '4', '5']\n",
    "gnome_small = gnome.loc[gnome['doc'].isin(dummy)]\n",
    "features = get_features(gnome_small, 'doc')\n",
    "save_pickle(features, '../output/features/gnome_1-5.pickle')"
   ]
  },
  {
   "cell_type": "code",
   "execution_count": 5,
   "metadata": {},
   "outputs": [],
   "source": [
    "jrc = load_pickle('../data/jrc_resized.pickle')\n",
    "dummy = ['1','2', '3', '4', '5']\n",
    "jrc_small = jrc.loc[jrc['doc'].isin(dummy)]\n",
    "# features = get_features(jrc_small, 'doc')\n",
    "# save_pickle(features, '../output/features/jrc_1-5.pickle')"
   ]
  },
  {
   "cell_type": "code",
   "execution_count": 30,
   "metadata": {},
   "outputs": [
    {
     "name": "stdout",
     "output_type": "stream",
     "text": [
      "[('Form', 'Route', 'of', 'Administration', 'Packaging'), ('5', 'mg', 'of', 'aripiprazole', '.'), ('Recurrence', 'prevention', 'of', 'manic', 'episodes'), ('concomitant', 'administration', 'of', 'potent', 'CYP3A4'), ('clinical', 'trials', 'of', 'aripiprazole', ','), ('a', 'history', 'of', 'seizure', 'disorder'), ('family', 'history', 'of', 'diabetes', '.'), ('hereditary', 'problems', 'of', 'galactose', 'intolerance'), ('potent', 'inhibitors', 'of', 'CYP2D6', ','), ('geometric', 'means', 'of', 'Cmax', 'and'), ('the', 'milk', 'of', 'treated', 'rats'), ('%', ')', 'of', 'EPS', 'including'), ('The', 'frequency', 'of', 'these', 'events'), ('acute', 'overdosage', 'of', 'aripiprazole', 'alone'), ('the', 'treatment', 'of', 'overdose', '.'), ('the', 'proportion', 'of', 'responder', 'patients'), ('mixed', 'episode', 'of', 'Bipolar', 'I'), ('oral', 'bioavailability', 'of', 'the', 'tablet'), ('1', '%', 'of', 'unchanged', 'aripiprazole'), ('in', 'excess', 'of', 'the', 'maximum'), ('on', 'results', 'of', 'a', 'full'), ('Dat', 'e', 'of', 'first', 'authorisation'), ('Recurrence', 'prevention', 'of', 'manic', 'episodes'), ('metabolic', 'pathway', 'of', 'ABILIFY', 'no'), ('(', 'history', 'of', 'myocardial', 'infarction'), ('symptoms', 'indicative', 'of', 'NMS', ','), ('in', 'one', 'of', 'these', 'trials'), ('as', 'history', 'of', 'diabetes', ','), ('potent', 'inhibitor', 'of', 'CYP2D6', '('), ('Upon', 'discontinuation', 'of', 'the', 'CYP2D6'), ('well-controlled', 'trials', 'of', 'aripiprazole', 'in'), ('%', ')', 'of', 'EPS', 'including'), ('the', 'incidence', 'of', 'akathisia', 'in'), ('acute', 'overdosage', 'of', 'aripiprazole', 'alone'), (',', 'reports', 'of', 'accidental', 'overdose'), ('explain', 'some', 'of', 'the', 'other'), ('multi-national', 'study', 'of', 'schizophrenia', 'which'), ('comparable', 'proportion', 'of', 'patients', 'in'), ('and', 'hydroxylation', 'of', 'aripiprazole', ','), ('pharmacokinetic', 'characteristics', 'of', 'aripiprazole', 'and'), ('a', 'consequence', 'of', 'precipitation', 'of'), ('and', 'contents', 'of', 'container', 'Aluminium'), ('and', 'method', 'of', 'administration', 'Oral'), ('daily', 'dose', 'of', '30', 'mg'), ('The', 'occurrence', 'of', 'suicidal', 'behaviour'), ('after', 'discontinuation', 'of', 'treatment', '.'), ('The', 'rate', 'of', 'death', 'in'), ('and', 'symptoms', 'of', 'hyperglycaemia', '('), ('other', 'forms', 'of', 'interaction', 'Due'), ('and', 'Cmax', 'of', 'dehydro-aripiprazole', 'increased'), ('concomitant', 'administration', 'of', 'ABILIFY', 'occurs'), ('the', 'milk', 'of', 'treated', 'rats'), ('%', ')', 'of', 'EPS', 'including'), ('The', 'frequency', 'of', 'these', 'events'), ('acute', 'overdosage', 'of', 'aripiprazole', 'alone'), ('the', 'treatment', 'of', 'overdose', '.'), ('the', 'proportion', 'of', 'responder', 'patients'), ('mixed', 'episode', 'of', 'Bipolar', 'I'), ('oral', 'bioavailability', 'of', 'the', 'tablet'), ('1', '%', 'of', 'unchanged', 'aripiprazole'), ('in', 'excess', 'of', 'the', 'maximum'), ('on', 'results', 'of', 'a', 'full'), ('Dat', 'e', 'of', 'first', 'authorisation'), ('Recurrence', 'prevention', 'of', 'manic', 'episodes'), ('metabolic', 'pathway', 'of', 'ABILIFY', 'no'), ('(', 'history', 'of', 'myocardial', 'infarction'), ('symptoms', 'indicative', 'of', 'NMS', ','), ('in', 'one', 'of', 'these', 'trials'), ('as', 'history', 'of', 'diabetes', ','), ('potent', 'inhibitor', 'of', 'CYP2D6', '('), ('Upon', 'discontinuation', 'of', 'the', 'CYP2D6'), ('well-controlled', 'trials', 'of', 'aripiprazole', 'in'), ('%', ')', 'of', 'EPS', 'including'), ('the', 'incidence', 'of', 'akathisia', 'in'), ('acute', 'overdosage', 'of', 'aripiprazole', 'alone'), (',', 'reports', 'of', 'accidental', 'overdose'), ('explain', 'some', 'of', 'the', 'other'), ('multi-national', 'study', 'of', 'schizophrenia', 'which'), ('comparable', 'proportion', 'of', 'patients', 'in'), ('and', 'hydroxylation', 'of', 'aripiprazole', ','), ('pharmacokinetic', 'characteristics', 'of', 'aripiprazole', 'and'), ('a', 'consequence', 'of', 'precipitation', 'of'), ('and', 'contents', 'of', 'container', 'Aluminium'), ('the', 'treatment', 'of', 'schizophrenia', '.'), ('.', 'Removal', 'of', 'the', 'intact'), ('metabolic', 'pathway', 'of', 'aripiprazole', 'no'), ('clinical', 'trials', 'of', 'aripiprazole', ','), ('a', 'history', 'of', 'seizure', 'disorder'), ('family', 'history', 'of', 'diabetes', '.'), ('a', 'source', 'of', 'phenylalanine', 'which'), ('potent', 'inhibitors', 'of', 'CYP2D6', ','), ('means', '49', 'of', 'Cmax', 'and'), ('the', 'milk', 'of', 'treated', 'rats'), ('%', ')', 'of', 'EPS', 'including'), ('The', 'frequency', 'of', 'these', 'events'), ('acute', 'overdosage', 'of', 'aripiprazole', 'alone'), ('the', 'treatment', 'of', 'overdose', '.'), ('the', 'proportion', 'of', 'responder', 'patients'), ('mixed', 'episode', 'of', 'Bipolar', 'I'), ('and', 'extent', 'of', 'absorption', '.'), ('oral', 'dose', 'of', '[', '14C]-labelled'), ('conventional', 'studies', 'of', 'safety', 'pharmacology'), ('on', 'results', 'of', 'a', 'full'), ('56', 'Date', 'of', 'first', 'authorisation'), ('daily', 'dose', 'of', '15', 'mg'), ('daily', 'dose', 'of', '30', 'mg'), ('to', 'any', 'of', 'the', 'excipients'), ('and', 'symptoms', 'of', 'tardive', 'dyskinesia'), ('The', 'rate', 'of', 'death', 'in'), ('and', 'symptoms', 'of', 'hyperglycaemia', '('), ('other', 'forms', 'of', 'interaction', 'Due'), ('and', 'Cmax', 'of', 'dehydro-aripiprazole', 'increased'), ('concomitant', 'administration', 'of', 'ABILIFY', 'occurs'), ('the', 'milk', 'of', 'treated', 'rats'), ('%', ')', 'of', 'EPS', 'including'), ('The', 'frequency', 'of', 'these', 'events'), ('acute', 'overdosage', 'of', 'aripiprazole', 'alone'), ('the', 'treatment', 'of', 'overdose', '.'), ('the', 'proportion', 'of', 'responder', 'patients'), ('mixed', 'episode', 'of', 'Bipolar', 'I'), ('and', 'extent', 'of', 'absorption', '.'), ('oral', 'dose', 'of', '[', '14C]-labelled'), ('conventional', 'studies', 'of', 'safety', 'pharmacology'), ('on', 'results', 'of', 'a', 'full'), ('68', 'Date', 'of', 'first', 'authorisation'), ('daily', 'dose', 'of', '15', 'mg'), ('daily', 'dose', 'of', '30', 'mg'), ('to', 'any', 'of', 'the', 'excipients'), ('and', 'symptoms', 'of', 'tardive', 'dyskinesia'), ('The', 'rate', 'of', 'death', 'in'), ('and', 'symptoms', 'of', 'hyperglycaemia', '('), ('other', 'forms', 'of', 'interaction', 'Due'), ('and', 'Cmax', 'of', 'dehydro-aripiprazole', 'increased'), ('concomitant', 'administration', 'of', 'ABILIFY', 'occurs'), ('the', 'milk', 'of', 'treated', 'rats'), ('%', ')', 'of', 'EPS', 'including'), ('The', 'frequency', 'of', 'these', 'events'), ('acute', 'overdosage', 'of', 'aripiprazole', 'alone'), ('the', 'treatment', 'of', 'overdose', '.'), ('the', 'proportion', 'of', 'responder', 'patients'), ('mixed', 'episode', 'of', 'Bipolar', 'I'), ('and', 'extent', 'of', 'absorption', '.'), ('oral', 'dose', 'of', '[', '14C]-labelled'), ('conventional', 'studies', 'of', 'safety', 'pharmacology'), ('on', 'results', 'of', 'a', 'full'), ('80', 'Date', 'of', 'first', 'authorisation'), ('maintenance', 'dose', 'of', '15', 'mg/'), ('daily', 'dose', 'of', '30', 'mg'), ('to', 'any', 'of', 'the', 'excipients'), ('and', 'symptoms', 'of', 'tardive', 'dyskinesia'), ('The', 'rate', 'of', 'death', 'in'), ('and', 'symptoms', 'of', 'hyperglycaemia', '('), ('hereditary', 'problems', 'of', 'fructose', 'intolerance'), ('potent', 'inhibitors', 'of', 'CYP2D6', ','), ('geometric', 'means', 'of', 'Cmax', 'and'), ('the', 'milk', 'of', 'treated', 'rats'), ('%', ')', 'of', 'EPS', 'including'), ('The', 'frequency', 'of', 'these', 'events'), ('acute', 'overdosage', 'of', 'aripiprazole', 'alone'), ('the', 'treatment', 'of', 'overdose', '.'), ('the', 'proportion', 'of', 'responder', 'patients'), ('mixed', 'episode', 'of', 'Bipolar', 'I'), ('oral', 'bioavailability', 'of', 'the', 'tablet'), ('1', '%', 'of', 'unchanged', 'aripiprazole'), ('varying', 'degrees', 'of', 'liver', 'cirrhosis'), ('the', 'concentrations', 'of', 'the', 'sulphate'), ('be', 'disposed', 'of', 'in', 'accordance'), ('and', 'method', 'of', 'administration', 'For'), ('daily', 'dose', 'of', '30', 'mg'), ('to', 'any', 'of', 'the', 'excipients'), ('(', 'history', 'of', 'myocardial', 'infarction'), ('symptoms', 'indicative', 'of', 'NMS', ','), ('in', 'one', 'of', 'these', 'trials'), ('as', 'history', 'of', 'diabetes', ','), ('aripiprazole', 'rate', 'of', 'absorption', 'but'), ('potent', 'inhibitors', 'of', 'CYP3A4', ','), ('The', 'administration', 'of', 'aripiprazole', 'solution'), ('the', 'milk', 'of', 'treated', 'rats'), ('%', ')', 'of', 'EPS', 'including'), ('the', 'incidence', 'of', 'akathisia', 'in'), ('acute', 'overdosage', 'of', 'aripiprazole', 'alone'), (',', 'reports', 'of', 'accidental', 'overdose'), ('explain', 'some', 'of', 'the', 'other'), ('similar', 'pattern', 'of', 'efficacy', 'to'), ('mixed', 'episode', 'of', 'Bipolar', 'I'), ('absolute', 'bioavailability', 'of', '100', '%'), ('oral', 'dose', 'of', '[', '14C]-labelled'), ('Administratio', 'n', 'of', 'aripiprazole', 'solution'), ('the', 'concentrations', 'of', 'the', 'sulphate'), ('AUTHORISATION', 'Date', 'of', 'first', 'authorisation'), ('60', 'days', 'of', 'an', 'important'), ('10', 'mg', 'of', 'aripiprazole', '.'), ('Keep', 'out', 'of', 'the', 'reach'), ('Keep', 'out', 'of', 'the', 'reach'), ('30', 'mg', 'of', 'aripiprazole', '.'), ('10', 'mg', 'of', 'aripiprazole', '.'), ('15', 'mg', 'of', 'aripiprazole', '.'), ('30', 'mg', 'of', 'aripiprazole', '.'), ('1', 'mg', 'of', 'aripiprazole', '.'), ('Keep', 'out', 'of', 'the', 'reach'), ('Keep', 'out', 'of', 'the', 'reach'), ('Read', 'all', 'of', 'this', 'leaflet'), ('or', 'any', 'of', 'the', 'other'), ('the', 'effect', 'of', 'medicines', 'used'), ('a', 'maximum', 'of', '30', 'mg'), ('increased', 'production', 'of', 'saliva', ','), (',', 'cases', 'of', 'stroke', 'or'), ('local', 'representative', 'of', 'the', 'Marketing'), ('Read', 'all', 'of', 'this', 'leaflet'), ('If', 'any', 'of', 'the', 'side'), ('or', 'any', 'of', 'the', 'other'), ('the', 'effect', 'of', 'medicines', 'used'), ('a', 'maximum', 'of', '30', 'mg'), ('increased', 'production', 'of', 'saliva', ','), (',', 'cases', 'of', 'stroke', 'or'), ('local', 'representative', 'of', 'the', 'Marketing'), ('Read', 'all', 'of', 'this', 'leaflet'), ('If', 'any', 'of', 'the', 'side'), ('or', 'any', 'of', 'the', 'other'), ('the', 'effect', 'of', 'medicines', 'used'), ('a', 'maximum', 'of', '30', 'mg'), ('increased', 'production', 'of', 'saliva', ','), (',', 'cases', 'of', 'stroke', 'or'), ('local', 'representative', 'of', 'the', 'Marketing'), ('Read', 'all', 'of', 'this', 'leaflet'), ('If', 'any', 'of', 'the', 'side'), ('or', 'any', 'of', 'the', 'other'), ('the', 'effect', 'of', 'medicines', 'used'), ('a', 'maximum', 'of', '30', 'mg'), ('increased', 'production', 'of', 'saliva', ','), (',', 'cases', 'of', 'stroke', 'or'), ('local', 'representative', 'of', 'the', 'Marketing'), ('Read', 'all', 'of', 'this', 'leaflet'), ('If', 'any', 'of', 'the', 'side'), ('or', 'any', 'of', 'the', 'other'), ('the', 'effect', 'of', 'medicines', 'used'), ('a', 'maximum', 'of', '30', 'mg'), ('the', 'use', 'of', 'this', 'product'), (',', 'cases', 'of', 'stroke', 'or'), ('local', 'representative', 'of', 'the', 'Marketing'), ('Read', 'all', 'of', 'this', 'leaflet'), ('or', 'any', 'of', 'the', 'other'), ('the', 'effect', 'of', 'medicines', 'used'), ('a', 'maximum', 'of', '30', 'mg'), ('the', 'use', 'of', 'this', 'product'), (',', 'cases', 'of', 'stroke', 'or'), ('local', 'representative', 'of', 'the', 'Marketing'), ('Read', 'all', 'of', 'this', 'leaflet'), ('or', 'any', 'of', 'the', 'other'), ('the', 'effect', 'of', 'medicines', 'used'), ('a', 'maximum', 'of', '30', 'mg'), ('the', 'use', 'of', 'this', 'product'), (',', 'cases', 'of', 'stroke', 'or'), ('local', 'representative', 'of', 'the', 'Marketing'), ('Read', 'all', 'of', 'this', 'leaflet'), ('or', 'any', 'of', 'the', 'other'), ('the', 'effect', 'of', 'medicines', 'used'), ('about', 'some', 'of', 'the', 'ingredients'), ('taken', 'some', 'of', 'your', 'ABILIFY'), (',', 'cases', 'of', 'stroke', 'or'), ('local', 'representative', 'of', 'the', 'Marketing'), ('Read', 'all', 'of', 'this', 'leaflet'), ('oral', 'formulations', 'of', 'ABILIFY', 'is'), ('the', 'effect', 'of', 'medicines', 'used'), ('total', 'dose', 'of', 'ABILIFY', '('), ('patients', ')', 'of', 'ABILIFY', 'solution'), (',', 'cases', 'of', 'stroke', 'or'), ('local', 'representative', 'of', 'the', 'Marketing'), ('a', 'summary', 'of', 'the', 'European'), ('square', 'metre', 'of', 'body', 'surface'), ('or', 'distribution', 'of', 'this', 'document'), ('%', ')', 'of', 'the', '229'), ('full', 'list', 'of', 'all', 'side'), ('Form', 'Route', 'of', 'Administration', 'Packaging'), ('100', 'mg', 'of', 'paclitaxel', '.'), ('Following', 'recurrence', 'of', 'severe', 'neutropenia'), ('Frequent', 'monitoring', 'of', 'blood', 'cell'), ('the', 'occurrence', 'of', 'cardiac', 'events'), ('the', 'use', 'of', 'paclitaxel', 'in'), ('important', 'incidences', 'of', 'adverse', 'reactions'), ('90', '%', 'of', 'the', 'patients'), ('The', 'frequency', 'of', 'hypersensitivity', 'reactions'), ('the', 'event', 'of', 'an', 'overdose'), ('a', 'dose', 'of', '175', 'mg/'), ('Fourteen', 'percent', 'of', 'the', 'patients'), ('natural', 'course', 'of', 'peripheral', 'neuropathy'), ('pharmacokinetic', 'characteristics', 'of', 'paclitaxel', 'following'), ('.', 'Pharmacokinetics', 'of', 'paclitaxel', 'in'), ('.', 'Stability', 'of', 'the', 'reconstituted'), ('and', 'administration', 'of', 'the', 'product'), ('The', 'use', 'of', 'specialized', 'DEHP-free')]\n"
     ]
    }
   ],
   "source": [
    "import re\n",
    "\n",
    "def get_contexts(df, word):\n",
    "    regex = '(\\S+)\\s*(\\S+)\\s*' + word +'\\s*(\\S+)\\s*(\\S+)'\n",
    "    contexts = []\n",
    "    for index, row in df.iterrows():\n",
    "        context = re.findall(regex, row['text'])\n",
    "        if context:\n",
    "            lst = list(context[0])\n",
    "            lst.insert(2,'of')\n",
    "            contexts.append(tuple(lst))\n",
    "    return contexts\n",
    "\n",
    "print(get_contexts(jrc_small, 'of'))"
   ]
  },
  {
   "cell_type": "code",
   "execution_count": 6,
   "metadata": {},
   "outputs": [
    {
     "name": "stdout",
     "output_type": "stream",
     "text": [
      "   id        yule   fk_grade   f_reading  gunning_fog     honore_r  \\\n",
      "0   1  132.713862  68.224726 -120.830193    71.053777  1374.144137   \n",
      "1   2   37.386099  17.506678   11.663793    18.716068  1946.367378   \n",
      "2   3   37.550450  12.689461   38.007930    14.360344  1859.919583   \n",
      "3   4  123.456790   0.000000    0.000000     0.000000  3319.991509   \n",
      "4   5   62.462257  16.795732   10.827553    18.683593  1913.658884   \n",
      "\n",
      "   avg_word_length  syllable_no  spelling_errors    no_tag  ...       nnv  \\\n",
      "0         3.999010     0.921606          34.0000  0.000000  ...  7.250000   \n",
      "1         5.594651     1.673798          32.0625  0.698529  ...  0.639706   \n",
      "2         5.184240     1.529331          21.6000  0.200000  ...  0.600000   \n",
      "3         5.054054     1.324324           6.0000  0.000000  ...  0.000000   \n",
      "4         5.704764     1.725231          31.0000  1.000000  ...  0.300000   \n",
      "\n",
      "        vnn       vnv       nap       nnc       nad       dna       nnn  \\\n",
      "0  0.750000  0.000000  0.000000  0.000000  0.000000  0.000000  0.000000   \n",
      "1  0.650735  0.294118  1.569853  0.727941  3.066176  2.606618  0.897059   \n",
      "2  0.600000  0.000000  1.400000  0.200000  4.800000  5.200000  0.800000   \n",
      "3  0.000000  0.000000  0.000000  0.000000  0.000000  0.000000  0.000000   \n",
      "4  0.950000  0.050000  1.400000  0.600000  2.800000  2.650000  0.900000   \n",
      "\n",
      "        nan       vad  \n",
      "0  0.000000  0.000000  \n",
      "1  7.161765  1.426471  \n",
      "2  4.800000  2.400000  \n",
      "3  1.000000  0.000000  \n",
      "4  5.450000  1.550000  \n",
      "\n",
      "[5 rows x 28 columns]\n"
     ]
    }
   ],
   "source": [
    "features = load_pickle('../output/features/jrc_1-5.pickle')\n",
    "features = make_numeric(features)\n",
    "grouped = features.groupby('id',  as_index=False).mean()\n",
    "print(grouped)\n"
   ]
  },
  {
   "cell_type": "code",
   "execution_count": null,
   "metadata": {},
   "outputs": [],
   "source": [
    "plot_one_author_pos_trigrams(features, 1)\n",
    "plot_mean_pos_trigrams(grouped)\n",
    "plot_word_freq(grouped)\n",
    "plot_yule(grouped)\n",
    "plot_gunning_fog(grouped)\n",
    "plot_fk_grade(grouped)\n",
    "plot_f_reading(grouped)\n",
    "plot_honore_R(grouped)\n",
    "plot_feature(grouped, 'mean_word_rank', \"Mean Word Rank\")\n",
    "plot_feature(grouped, 'avg_word_length', \"Average Word Length\")\n",
    "plot_feature(grouped, 'spelling_errors', \"Spelling Errors\")\n",
    "plot_feature(grouped, 'punct', \"Punctuation\")"
   ]
  }
 ],
 "metadata": {
  "interpreter": {
   "hash": "2059d54db69b409a30853061144d64e50a683fe5528e4a38afc9635b706f8a27"
  },
  "kernelspec": {
   "display_name": "Python 3.8.12 ('nlp')",
   "language": "python",
   "name": "python3"
  },
  "language_info": {
   "codemirror_mode": {
    "name": "ipython",
    "version": 3
   },
   "file_extension": ".py",
   "mimetype": "text/x-python",
   "name": "python",
   "nbconvert_exporter": "python",
   "pygments_lexer": "ipython3",
   "version": "3.8.12"
  },
  "orig_nbformat": 4
 },
 "nbformat": 4,
 "nbformat_minor": 2
}
